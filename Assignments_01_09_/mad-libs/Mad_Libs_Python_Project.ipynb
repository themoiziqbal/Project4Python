{
  "nbformat": 4,
  "nbformat_minor": 0,
  "metadata": {
    "colab": {
      "provenance": [],
      "authorship_tag": "ABX9TyOojNKEXYR204RSf7TpH2x0",
      "include_colab_link": true
    },
    "kernelspec": {
      "name": "python3",
      "display_name": "Python 3"
    },
    "language_info": {
      "name": "python"
    }
  },
  "cells": [
    {
      "cell_type": "markdown",
      "metadata": {
        "id": "view-in-github",
        "colab_type": "text"
      },
      "source": [
        "<a href=\"https://colab.research.google.com/github/Nazia-naz90/PROJECT_04_BY_nAZIA/blob/main/Mad_Libs_Python_Project.ipynb\" target=\"_parent\"><img src=\"https://colab.research.google.com/assets/colab-badge.svg\" alt=\"Open In Colab\"/></a>"
      ]
    },
    {
      "cell_type": "markdown",
      "source": [
        "# Mad libs Python Project"
      ],
      "metadata": {
        "id": "Bpm2PxvcCEgb"
      }
    },
    {
      "cell_type": "code",
      "source": [
        "import time\n",
        "\n",
        "def madlibs():\n",
        "    print(\"Welcome to the Mad Libs Adventure! Fill in the blanks to create an exciting story.\\n\")\n",
        "\n",
        "    # Taking Input from the user\n",
        "    name = input(\"Enter a name:\")\n",
        "    age = input(\"Enter an age:\")\n",
        "    city = input(\"Enter a city:\")\n",
        "    profession = input(\"Enter a profession:\")\n",
        "    mirical = input(\"Enter a mirical (e.g., prayers):\")\n",
        "    adjective1 = input(\"Enter an adjective:\")\n",
        "    adjective2 = input(\"Enter another adjective:\")\n",
        "    object1 = input(\"Enter a mysterious object: \")\n",
        "    object2 = input(\"Enter another object:\")\n",
        "    angel = input(\"Enter an angel:\")\n",
        "    villain_name = input(\"Enter a villain's name:\")\n",
        "    verb = input(\"Enter an action verb\")\n",
        "\n",
        "    # Story with user inputs\n",
        "    story = f\"\"\"\n",
        "     Once upon a time in the bustling city of {city}, there lived a {adjective1} {profession} named {name}.\n",
        "    At just {age} years old, {name} was known an {angel} abilities.\n",
        "\n",
        "    One day, while exploring an ancient library, {name} stumbled upon a {object1}.\n",
        "    As soon as they touched it, a bright light surrounded them, and suddenly, a {mirical} appeared!\n",
        "    The {mirical} told {name} that they were the chosen one to protect the city from the evil {villain_name}.\n",
        "\n",
        "    Armed with courage and a {adjective2} {object2}, {name} set out on a thrilling adventure.\n",
        "    Along the way, they encountered magical lands, solved mysterious riddles, and faced dangerous obstacles.\n",
        "\n",
        "    Finally, the moment of truth arrived. {villain_name} was about to destroy {city}, but {name} call to ALLAH for their help\n",
        "    , then an {angel} {verb} {villain_name}just in time, saving the city from destruction!\n",
        "\n",
        "    The people of {city} cheered, and the {mirical} rewarded {name} with a lifetime of wisdom.\n",
        "    forever... ✨\n",
        "\n",
        "    THE END.\n",
        "    \"\"\"\n",
        "\n",
        "    print(\"\\nGenerating your story.....\\n\")\n",
        "    time.sleep(2)  # Adding a dramatic pause for effect\n",
        "    print(story)\n",
        "\n",
        "# Running the Mad Libs Game\n",
        "if __name__ == \"__main__\":\n",
        "    madlibs()\n",
        "\n"
      ],
      "metadata": {
        "colab": {
          "base_uri": "https://localhost:8080/"
        },
        "id": "iMjw3wKtCLix",
        "outputId": "dc34d384-a1c5-4bbb-812b-19631525329b"
      },
      "execution_count": 9,
      "outputs": [
        {
          "output_type": "stream",
          "name": "stdout",
          "text": [
            "Welcome to the Mad Libs Adventure! Fill in the blanks to create an exciting story.\n",
            "\n",
            "Enter a name:Nazia\n",
            "Enter an age:30\n",
            "Enter a city:kashmir\n",
            "Enter a profession:Teacher\n",
            "Enter a mirical (e.g., prayers):prayers\n",
            "Enter an adjective:strong\n",
            "Enter another adjective:wisdom \n",
            "Enter a mysterious object: ancient box full of broken skeltons\n",
            "Enter another object:mind\n",
            "Enter an angel:angel\n",
            "Enter a villain's name:Devil\n",
            "Enter an action verbcaptured and fired \n",
            "\n",
            "Generating your story.....\n",
            "\n",
            "\n",
            "     Once upon a time in the bustling city of kashmir, there lived a strong Teacher named Nazia.\n",
            "    At just 30 years old, Nazia was known an angel abilities.\n",
            "\n",
            "    One day, while exploring an ancient library, Nazia stumbled upon a ancient box full of broken skeltons.\n",
            "    As soon as they touched it, a bright light surrounded them, and suddenly, a prayers appeared!\n",
            "    The prayers told Nazia that they were the chosen one to protect the city from the evil Devil.\n",
            "\n",
            "    Armed with courage and a wisdom  mind, Nazia set out on a thrilling adventure.\n",
            "    Along the way, they encountered magical lands, solved mysterious riddles, and faced dangerous obstacles.\n",
            "\n",
            "    Finally, the moment of truth arrived. Devil was about to destroy kashmir, but Nazia call to ALLAH for their help \n",
            "    , then an angel captured and fired  Deviljust in time, saving the city from destruction!\n",
            "\n",
            "    The people of kashmir cheered, and the prayers rewarded Nazia with a lifetime of wisdom.\n",
            "    forever... ✨\n",
            "\n",
            "    THE END.\n",
            "    \n"
          ]
        }
      ]
    }
  ]
}