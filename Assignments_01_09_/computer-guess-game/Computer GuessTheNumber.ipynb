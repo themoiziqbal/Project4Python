{
  "nbformat": 4,
  "nbformat_minor": 0,
  "metadata": {
    "colab": {
      "provenance": [],
      "authorship_tag": "ABX9TyMm0GrD5VsAgWoiTsxkzHrU",
      "include_colab_link": true
    },
    "kernelspec": {
      "name": "python3",
      "display_name": "Python 3"
    },
    "language_info": {
      "name": "python"
    }
  },
  "cells": [
    {
      "cell_type": "markdown",
      "metadata": {
        "id": "view-in-github",
        "colab_type": "text"
      },
      "source": [
        "<a href=\"https://colab.research.google.com/github/Nazia-naz90/PROJECT_04_BY_nAZIA/blob/main/GuessTheNumberComputer.ipynb\" target=\"_parent\"><img src=\"https://colab.research.google.com/assets/colab-badge.svg\" alt=\"Open In Colab\"/></a>"
      ]
    },
    {
      "cell_type": "markdown",
      "source": [
        "# Guess the Number Game Python Project (computer)"
      ],
      "metadata": {
        "id": "--ct5I8wU2me"
      }
    },
    {
      "cell_type": "code",
      "source": [
        "import random\n",
        "\n",
        "def guess(x):\n",
        "    random_number = random.randint(1 , x)\n",
        "    user_guess = None\n",
        "    attempts = 0\n",
        "\n",
        "    print(\"\\n🎯 Welcome to the 'Guess the Number' Game! 🎯\")\n",
        "    print(f\"I have slected a number between 1 and {x}. Can yuo guess it?\")\n",
        "\n",
        "    while user_guess != random_number:\n",
        "       try:\n",
        "          user_guess = int(input(\"\\nEnter your guess:\"))\n",
        "          attempts += 1\n",
        "\n",
        "          if user_guess < 1 or user_guess > x:\n",
        "               print(f\"🚨 Out of range! Please enter a number between 1 and {x}.\")\n",
        "          elif user_guess < random_number:\n",
        "               print(\"📉 Too low! Try again.\")\n",
        "          elif user_guess > random_number:\n",
        "               print(\"📈 Too high! Try again.\")\n",
        "       except ValueError:\n",
        "           print(\"❌ Invalid input! Please enter a valid number.\")\n",
        "\n",
        "    print(f\"\\n🎉 Congratulations! You guessed the number {random_number} correctly in {attempts} attempts. 🏆\")\n",
        "\n",
        "    # Ask if the player wants to play again\n",
        "    play_again = input(\"\\nWould you like to play again? (yes/no): \").strip().lower()\n",
        "    if play_again == \"yes\":\n",
        "       guess(x)\n",
        "    else:\n",
        "        print(\"\\nThanks for playing! Have a great day! 🥰\")\n",
        "\n",
        "# Run the game with a chosen range or default (10)\n",
        "if __name__ == \"__main__\":\n",
        "    while True:\n",
        "        try:\n",
        "           upper_limit = input(\"\\nEnter the upper limit for the guessing game (Press Enter for default 10):\")\n",
        "           if upper_limit == \"\":\n",
        "              guess(10)\n",
        "              break\n",
        "           upper_limit = int(upper_limit)\n",
        "           if upper_limit < 1 :\n",
        "                print(\"⚠️ Please enter a positive number greater than 0.\")\n",
        "           else:\n",
        "               guess(upper_limit)\n",
        "               break\n",
        "        except ValueError:\n",
        "           print(\"❌ Invalid input! Please enter a valid number.\")\n",
        "\n"
      ],
      "metadata": {
        "colab": {
          "base_uri": "https://localhost:8080/"
        },
        "id": "ETa0YNwAU64W",
        "outputId": "6f632f6d-6d6d-4c41-99cf-e923fd19823f"
      },
      "execution_count": 2,
      "outputs": [
        {
          "output_type": "stream",
          "name": "stdout",
          "text": [
            "\n",
            "Enter the upper limit for the guessing game (Press Enter for default 10):9\n",
            "\n",
            "🎯 Welcome to the 'Guess the Number' Game! 🎯\n",
            "I have slected a number between 1 and 9. Can yuo guess it?\n",
            "\n",
            "Enter your guess:5\n",
            "📈 Too high! Try again.\n",
            "\n",
            "Enter your guess:4\n",
            "\n",
            "🎉 Congratulations! You guessed the number 4 correctly in 2 attempts. 🏆\n",
            "\n",
            "Would you like to play again? (yes/no): no\n",
            "\n",
            "Thanks for playing! Have a great day! 🥰\n"
          ]
        }
      ]
    }
  ]
}